{
 "cells": [
  {
   "cell_type": "markdown",
   "id": "851739c2",
   "metadata": {},
   "source": [
    "<h3><center>CLASSIFYING NEWSWIRES</center></h3>"
   ]
  },
  {
   "cell_type": "markdown",
   "id": "d360c042",
   "metadata": {},
   "source": [
    "#### Objective :\n",
    "Classify Reuters newswire into 46 mutually exclusive topics.\n",
    "\n",
    "Type of problem : Multiclass Classification or more specifically single-label, multiclass classification.\n",
    "\n",
    "Dataset : Reuters dataset (A set of short newswires and their topics published by Reuters in 1986)"
   ]
  },
  {
   "cell_type": "code",
   "execution_count": 1,
   "id": "f3973ee1",
   "metadata": {},
   "outputs": [],
   "source": [
    "# Importing Libraries\n",
    "import pandas as pd\n",
    "import numpy as np\n",
    "\n",
    "import matplotlib.pyplot as plt\n",
    "\n",
    "from keras.datasets import reuters"
   ]
  },
  {
   "cell_type": "markdown",
   "id": "9653c25f",
   "metadata": {},
   "source": [
    "#### 1. LOADING DATASET"
   ]
  },
  {
   "cell_type": "code",
   "execution_count": 2,
   "id": "cb0e77f8",
   "metadata": {},
   "outputs": [],
   "source": [
    "(train_data, train_labels), (test_data, test_labels) = reuters.load_data(num_words=10000)"
   ]
  },
  {
   "cell_type": "markdown",
   "id": "40f2aecc",
   "metadata": {},
   "source": [
    "The argument num_words=10000 restricts the data to 10,000 most frequently occuring words found in data."
   ]
  },
  {
   "cell_type": "code",
   "execution_count": 3,
   "id": "fa538834",
   "metadata": {},
   "outputs": [
    {
     "name": "stdout",
     "output_type": "stream",
     "text": [
      "Number of training examples available are :  8982\n",
      "Number of testing examples available are :  2246\n"
     ]
    }
   ],
   "source": [
    "print(\"Number of training examples available are : \", len(train_data))\n",
    "\n",
    "print(\"Number of testing examples available are : \", len(test_data))"
   ]
  },
  {
   "cell_type": "code",
   "execution_count": 4,
   "id": "d1bc22d4",
   "metadata": {},
   "outputs": [
    {
     "data": {
      "text/plain": [
       "[1,\n",
       " 245,\n",
       " 273,\n",
       " 207,\n",
       " 156,\n",
       " 53,\n",
       " 74,\n",
       " 160,\n",
       " 26,\n",
       " 14,\n",
       " 46,\n",
       " 296,\n",
       " 26,\n",
       " 39,\n",
       " 74,\n",
       " 2979,\n",
       " 3554,\n",
       " 14,\n",
       " 46,\n",
       " 4689,\n",
       " 4329,\n",
       " 86,\n",
       " 61,\n",
       " 3499,\n",
       " 4795,\n",
       " 14,\n",
       " 61,\n",
       " 451,\n",
       " 4329,\n",
       " 17,\n",
       " 12]"
      ]
     },
     "execution_count": 4,
     "metadata": {},
     "output_type": "execute_result"
    }
   ],
   "source": [
    "# Let's check some random data\n",
    "train_data[10]"
   ]
  },
  {
   "cell_type": "code",
   "execution_count": 5,
   "id": "a8bbe77d",
   "metadata": {},
   "outputs": [
    {
     "data": {
      "text/plain": [
       "'???saidasaresultofitsdecemberacquisitionofspacecoitexpectsearningspersharein1987of115to130dlrspershareupfrom70ctsin1986thecompanysaidpretaxnetshouldrisetonineto10mlndlrsfromsixmlndlrsin1986andrentaloperationrevenuesto19to22mlndlrsfrom125mlndlrsitsaidcashflowpersharethisyearshouldbe250tothreedlrsreuter3'"
      ]
     },
     "execution_count": 5,
     "metadata": {},
     "output_type": "execute_result"
    }
   ],
   "source": [
    "# Decoding back to words\n",
    "\n",
    "word_index = reuters.get_word_index()\n",
    "\n",
    "reversed_word_index = dict([(value, key) for key, value in word_index.items()])\n",
    "\n",
    "decoded_newswire = ''.join([reversed_word_index.get(i-3, '?') for i in train_data[0]])\n",
    "\n",
    "decoded_newswire"
   ]
  },
  {
   "cell_type": "code",
   "execution_count": 6,
   "id": "ee7e5ba0",
   "metadata": {},
   "outputs": [
    {
     "data": {
      "text/plain": [
       "3"
      ]
     },
     "execution_count": 6,
     "metadata": {},
     "output_type": "execute_result"
    }
   ],
   "source": [
    "train_labels[0]"
   ]
  },
  {
   "cell_type": "markdown",
   "id": "0da079fa",
   "metadata": {},
   "source": [
    "Label associated with an example will be in an integer between 0-45(since 46 topics are there)."
   ]
  },
  {
   "cell_type": "markdown",
   "id": "680a494d",
   "metadata": {},
   "source": [
    "#### 2. PREPARING THE DATA"
   ]
  },
  {
   "cell_type": "code",
   "execution_count": 7,
   "id": "be90d54e",
   "metadata": {},
   "outputs": [],
   "source": [
    "# One-hot encoding\n",
    "def vectorize_sequences(sequences, dimension=10000):\n",
    "    \n",
    "    results = np.zeros((len(sequences), dimension))\n",
    "    \n",
    "    for i, sequence in enumerate(sequences):\n",
    "        \n",
    "        results[i, sequence] = 1\n",
    "        \n",
    "    return results\n",
    "    \n",
    "    \n",
    "x_train = vectorize_sequences(train_data)\n",
    "\n",
    "x_test = vectorize_sequences(test_data)"
   ]
  },
  {
   "cell_type": "markdown",
   "id": "39236836",
   "metadata": {},
   "source": [
    "One-hot encoding is widely used format for catagorical data, also called categorical encoding."
   ]
  },
  {
   "cell_type": "code",
   "execution_count": 8,
   "id": "3fe71d7e",
   "metadata": {},
   "outputs": [],
   "source": [
    "def to_one_hot(labels, dimension=46):\n",
    "    \n",
    "    results = np.zeros((len(labels), dimension))\n",
    "    \n",
    "    for i, label in enumerate(labels):\n",
    "        \n",
    "        results[i, label] = 1\n",
    "        \n",
    "    return results\n",
    "\n",
    "one_hot_train_labels = to_one_hot(train_labels)\n",
    "\n",
    "one_hot_test_labels = to_one_hot(test_labels)"
   ]
  },
  {
   "cell_type": "markdown",
   "id": "490b32a2",
   "metadata": {},
   "source": [
    "#### 3. BUILDING NETWORK"
   ]
  },
  {
   "cell_type": "markdown",
   "id": "7e90ffc5",
   "metadata": {},
   "source": [
    "We are classifying small snippets of text, but here the number of output classes are 46 i.e. the dimensionality of the output space is much larger. We are going with 64 units since if we go with less dimensional intermediate layers , it will be too limited to learn to seperate 46 different classes. Small layers can act as a bottelnecks, permanently dropping relevant information."
   ]
  },
  {
   "cell_type": "code",
   "execution_count": 9,
   "id": "4321c652",
   "metadata": {},
   "outputs": [],
   "source": [
    "from keras import models\n",
    "from keras import layers"
   ]
  },
  {
   "cell_type": "code",
   "execution_count": 10,
   "id": "c24d989a",
   "metadata": {},
   "outputs": [],
   "source": [
    "def create_model():\n",
    "    \n",
    "    model = models.Sequential()\n",
    "    \n",
    "    model.add(layers.Dense(64, activation='relu', input_shape=(10000,)))\n",
    "    \n",
    "    model.add(layers.Dense(64, activation='relu'))\n",
    "    \n",
    "    model.add(layers.Dense(46, activation='softmax'))\n",
    "    \n",
    "    return model"
   ]
  },
  {
   "cell_type": "code",
   "execution_count": 11,
   "id": "0fc1ef2a",
   "metadata": {},
   "outputs": [],
   "source": [
    "model = create_model()"
   ]
  },
  {
   "cell_type": "markdown",
   "id": "b0de521f",
   "metadata": {},
   "source": [
    "Model Development:\n",
    "* We end the model with a Dense layer of size 46 because for each input sample the network will output a 46-dimensional vector.\n",
    "* The last layer uses softmax as activation function i.e. the network will output a probability distribution over 46 classes for every sample input. The network will output a 46 dimensional vector where output[i] is the probability that the sample belongs to class i. The total sum should be 1."
   ]
  },
  {
   "cell_type": "code",
   "execution_count": 12,
   "id": "0a16ae17",
   "metadata": {},
   "outputs": [],
   "source": [
    "#Compiling the Model\n",
    "model.compile(optimizer='rmsprop',\n",
    "              loss='categorical_crossentropy',\n",
    "             metrics=['accuracy'])"
   ]
  },
  {
   "cell_type": "markdown",
   "id": "a79e1535",
   "metadata": {},
   "source": [
    "loss_function is 'categorical_crossentropy'- It measures the distance between two probability distribution,  here one is the probability distribution that is output by network and other is the true distribution of the labels. By minimizing this distance between these two distribution we train our network to output something closed to true labels."
   ]
  },
  {
   "cell_type": "code",
   "execution_count": 13,
   "id": "452c2655",
   "metadata": {},
   "outputs": [],
   "source": [
    "# Creating a validation dataset\n",
    "\n",
    "x_val = x_train[:1000]\n",
    "\n",
    "partial_x_train = x_train[1000:]\n",
    "\n",
    "y_val = one_hot_train_labels[:1000]\n",
    "\n",
    "partial_y_train = one_hot_train_labels[1000:]"
   ]
  },
  {
   "cell_type": "code",
   "execution_count": 14,
   "id": "a874e527",
   "metadata": {},
   "outputs": [
    {
     "name": "stdout",
     "output_type": "stream",
     "text": [
      "Epoch 1/20\n",
      "16/16 [==============================] - 1s 34ms/step - loss: 2.6205 - accuracy: 0.5252 - val_loss: 1.7483 - val_accuracy: 0.6300\n",
      "Epoch 2/20\n",
      "16/16 [==============================] - 0s 15ms/step - loss: 1.4405 - accuracy: 0.7036 - val_loss: 1.3174 - val_accuracy: 0.7000\n",
      "Epoch 3/20\n",
      "16/16 [==============================] - 0s 14ms/step - loss: 1.0638 - accuracy: 0.7794 - val_loss: 1.1315 - val_accuracy: 0.7560\n",
      "Epoch 4/20\n",
      "16/16 [==============================] - 0s 13ms/step - loss: 0.8355 - accuracy: 0.8267 - val_loss: 1.0378 - val_accuracy: 0.7810\n",
      "Epoch 5/20\n",
      "16/16 [==============================] - 0s 13ms/step - loss: 0.6582 - accuracy: 0.8637 - val_loss: 0.9758 - val_accuracy: 0.8030\n",
      "Epoch 6/20\n",
      "16/16 [==============================] - 0s 14ms/step - loss: 0.5268 - accuracy: 0.8929 - val_loss: 0.9264 - val_accuracy: 0.8190\n",
      "Epoch 7/20\n",
      "16/16 [==============================] - 0s 15ms/step - loss: 0.4220 - accuracy: 0.9136 - val_loss: 0.9103 - val_accuracy: 0.8130\n",
      "Epoch 8/20\n",
      "16/16 [==============================] - 0s 14ms/step - loss: 0.3421 - accuracy: 0.9295 - val_loss: 0.9098 - val_accuracy: 0.8070\n",
      "Epoch 9/20\n",
      "16/16 [==============================] - 0s 15ms/step - loss: 0.2845 - accuracy: 0.9390 - val_loss: 0.9374 - val_accuracy: 0.8080\n",
      "Epoch 10/20\n",
      "16/16 [==============================] - 0s 15ms/step - loss: 0.2420 - accuracy: 0.9456 - val_loss: 0.9056 - val_accuracy: 0.8110\n",
      "Epoch 11/20\n",
      "16/16 [==============================] - 0s 14ms/step - loss: 0.2064 - accuracy: 0.9486 - val_loss: 0.9084 - val_accuracy: 0.8250\n",
      "Epoch 12/20\n",
      "16/16 [==============================] - 0s 15ms/step - loss: 0.1833 - accuracy: 0.9499 - val_loss: 0.9143 - val_accuracy: 0.8230\n",
      "Epoch 13/20\n",
      "16/16 [==============================] - 0s 14ms/step - loss: 0.1659 - accuracy: 0.9533 - val_loss: 0.9799 - val_accuracy: 0.8100\n",
      "Epoch 14/20\n",
      "16/16 [==============================] - 0s 14ms/step - loss: 0.1519 - accuracy: 0.9536 - val_loss: 0.9950 - val_accuracy: 0.7990\n",
      "Epoch 15/20\n",
      "16/16 [==============================] - 0s 14ms/step - loss: 0.1400 - accuracy: 0.9560 - val_loss: 1.1043 - val_accuracy: 0.7900\n",
      "Epoch 16/20\n",
      "16/16 [==============================] - 0s 14ms/step - loss: 0.1351 - accuracy: 0.9560 - val_loss: 1.0602 - val_accuracy: 0.8050\n",
      "Epoch 17/20\n",
      "16/16 [==============================] - 0s 13ms/step - loss: 0.1284 - accuracy: 0.9577 - val_loss: 1.0387 - val_accuracy: 0.8130\n",
      "Epoch 18/20\n",
      "16/16 [==============================] - 0s 14ms/step - loss: 0.1176 - accuracy: 0.9563 - val_loss: 1.0949 - val_accuracy: 0.7990\n",
      "Epoch 19/20\n",
      "16/16 [==============================] - 0s 14ms/step - loss: 0.1171 - accuracy: 0.9565 - val_loss: 1.0742 - val_accuracy: 0.8020\n",
      "Epoch 20/20\n",
      "16/16 [==============================] - 0s 14ms/step - loss: 0.1124 - accuracy: 0.9558 - val_loss: 1.1118 - val_accuracy: 0.7990\n"
     ]
    }
   ],
   "source": [
    "# Training the model\n",
    "history = model.fit(partial_x_train, partial_y_train, epochs=20, batch_size=512, validation_data=(x_val, y_val))"
   ]
  },
  {
   "cell_type": "code",
   "execution_count": 15,
   "id": "60cf035c",
   "metadata": {},
   "outputs": [
    {
     "data": {
      "image/png": "[encoded data removed]",
      "text/plain": [
       "<Figure size 432x288 with 1 Axes>"
      ]
     },
     "metadata": {
      "needs_background": "light"
     },
     "output_type": "display_data"
    }
   ],
   "source": [
    "# Plotting the Training Vs Validation loss\n",
    "loss = history.history['loss']\n",
    "\n",
    "val_loss = history.history['val_loss']\n",
    "\n",
    "epochs = range(1, len(loss)+1)\n",
    "\n",
    "plt.plot(epochs, loss, label='Training Loss')\n",
    "\n",
    "plt.plot(epochs, val_loss, label='Validation Loss')\n",
    "\n",
    "plt.title('Training Vs Validation Loss')\n",
    "\n",
    "plt.xlabel('Epochs')\n",
    "\n",
    "plt.ylabel('Loss')\n",
    "\n",
    "plt.legend()\n",
    "\n",
    "plt.show()"
   ]
  },
  {
   "cell_type": "code",
   "execution_count": 16,
   "id": "37a04e9a",
   "metadata": {},
   "outputs": [
    {
     "data": {
      "image/png": "[encoded data removed]",
      "text/plain": [
       "<Figure size 432x288 with 1 Axes>"
      ]
     },
     "metadata": {
      "needs_background": "light"
     },
     "output_type": "display_data"
    }
   ],
   "source": [
    "# Plotting the Training Vs Validation accuracy\n",
    "acc = history.history['accuracy']\n",
    "\n",
    "val_acc = history.history['val_accuracy']\n",
    "\n",
    "epochs = range(1, len(loss)+1)\n",
    "\n",
    "plt.plot(epochs, acc, label='Training Accuracy')\n",
    "\n",
    "plt.plot(epochs, val_acc, label='Validation Accuracy')\n",
    "\n",
    "plt.title('Training Vs Validation Accuracy')\n",
    "\n",
    "plt.xlabel('Epochs')\n",
    "\n",
    "plt.ylabel('Accuracy')\n",
    "\n",
    "plt.legend()\n",
    "\n",
    "plt.show()"
   ]
  },
  {
   "cell_type": "markdown",
   "id": "f886467c",
   "metadata": {},
   "source": [
    "<h3>Observations : </h3>\n",
    "\n",
    "The network begins to overfit after nine epochs, so training a new network from scratch for nine epochs and then evaluating it on test set.  "
   ]
  },
  {
   "cell_type": "code",
   "execution_count": 17,
   "id": "d3a63b9b",
   "metadata": {},
   "outputs": [
    {
     "name": "stdout",
     "output_type": "stream",
     "text": [
      "Epoch 1/9\n",
      "16/16 [==============================] - 1s 24ms/step - loss: 2.6672 - accuracy: 0.5381 - val_loss: 1.7694 - val_accuracy: 0.6540\n",
      "Epoch 2/9\n",
      "16/16 [==============================] - 0s 15ms/step - loss: 1.4399 - accuracy: 0.7070 - val_loss: 1.2997 - val_accuracy: 0.7160\n",
      "Epoch 3/9\n",
      "16/16 [==============================] - 0s 15ms/step - loss: 1.0482 - accuracy: 0.7771 - val_loss: 1.1275 - val_accuracy: 0.7560\n",
      "Epoch 4/9\n",
      "16/16 [==============================] - 0s 14ms/step - loss: 0.8232 - accuracy: 0.8232 - val_loss: 1.0114 - val_accuracy: 0.7920\n",
      "Epoch 5/9\n",
      "16/16 [==============================] - 0s 14ms/step - loss: 0.6558 - accuracy: 0.8603 - val_loss: 0.9475 - val_accuracy: 0.8010\n",
      "Epoch 6/9\n",
      "16/16 [==============================] - 0s 16ms/step - loss: 0.5227 - accuracy: 0.8867 - val_loss: 0.9381 - val_accuracy: 0.8000\n",
      "Epoch 7/9\n",
      "16/16 [==============================] - 0s 19ms/step - loss: 0.4220 - accuracy: 0.9117 - val_loss: 0.8801 - val_accuracy: 0.8150\n",
      "Epoch 8/9\n",
      "16/16 [==============================] - 0s 18ms/step - loss: 0.3418 - accuracy: 0.9262 - val_loss: 0.8868 - val_accuracy: 0.8110\n",
      "Epoch 9/9\n",
      "16/16 [==============================] - 0s 15ms/step - loss: 0.2847 - accuracy: 0.9352 - val_loss: 0.8788 - val_accuracy: 0.8100\n"
     ]
    },
    {
     "data": {
      "text/plain": [
       "<keras.callbacks.History at 0x16f5cc210a0>"
      ]
     },
     "execution_count": 17,
     "metadata": {},
     "output_type": "execute_result"
    }
   ],
   "source": [
    "final_model = create_model()\n",
    "\n",
    "final_model.compile(optimizer='rmsprop',\n",
    "              loss='categorical_crossentropy',\n",
    "             metrics=['accuracy'])\n",
    "\n",
    "final_model.fit(partial_x_train, partial_y_train, epochs=9, batch_size=512, validation_data=(x_val, y_val))"
   ]
  },
  {
   "cell_type": "code",
   "execution_count": 19,
   "id": "8a5c7b1b",
   "metadata": {},
   "outputs": [
    {
     "name": "stdout",
     "output_type": "stream",
     "text": [
      "71/71 [==============================] - 0s 1ms/step - loss: 0.9594 - accuracy: 0.7898\n",
      "Loss is 0.959370493888855 and accuracy is 0.7898486256599426\n"
     ]
    }
   ],
   "source": [
    "results = final_model.evaluate(x_test, one_hot_test_labels)\n",
    "\n",
    "print('Loss is {0} and accuracy is {1}'.format(results[0], results[1]))"
   ]
  },
  {
   "cell_type": "markdown",
   "id": "6459f089",
   "metadata": {},
   "source": [
    "The above approach reaches nearly equals to ~80% "
   ]
  },
  {
   "cell_type": "code",
   "execution_count": 20,
   "id": "b1a9b8e3",
   "metadata": {},
   "outputs": [
    {
     "name": "stdout",
     "output_type": "stream",
     "text": [
      "71/71 [==============================] - 0s 1ms/step\n"
     ]
    }
   ],
   "source": [
    "# Predictions\n",
    "predictions = final_model.predict(x_test)"
   ]
  },
  {
   "cell_type": "code",
   "execution_count": 21,
   "id": "e67f5823",
   "metadata": {},
   "outputs": [
    {
     "data": {
      "text/plain": [
       "(46,)"
      ]
     },
     "execution_count": 21,
     "metadata": {},
     "output_type": "execute_result"
    }
   ],
   "source": [
    "predictions[0].shape"
   ]
  },
  {
   "cell_type": "markdown",
   "id": "437c2643",
   "metadata": {},
   "source": [
    "#### Wrapping up:\n",
    "\n",
    "* In a single-label , multiclass classification problem , the network should end with softmax activation function so that it will output probability distribution over N output classes\n",
    "* Categorical crossentropy minimizes the distance between probability distributions output by the network and the true distribution of the targets.\n",
    "* If we need to classify data into large number of categories we should avoid creating information bottelnecks in our network due to intermediate layers that are too small."
   ]
  }
 ],
 "metadata": {
  "kernelspec": {
   "display_name": "abhay_venv",
   "language": "python",
   "name": "abhay_venv"
  },
  "language_info": {
   "codemirror_mode": {
    "name": "ipython",
    "version": 3
   },
   "file_extension": ".py",
   "mimetype": "text/x-python",
   "name": "python",
   "nbconvert_exporter": "python",
   "pygments_lexer": "ipython3",
   "version": "3.8.12"
  }
 },
 "nbformat": 4,
 "nbformat_minor": 5
}
